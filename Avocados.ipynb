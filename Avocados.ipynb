{
 "cells": [
  {
   "cell_type": "markdown",
   "id": "205a33df-2b78-4414-ae0b-dd1882e7e153",
   "metadata": {},
   "source": [
    "# Did the start of the 'Avocados from Mexico' campaigns cause an increase in Mexican avocado exports?\n",
    "\n",
    "## A causal inference project\n",
    "\n",
    "This notebook contains the EDA for the project. The causal inference analysis was performed with R packages and is available in a .rmd file.\n",
    "\n",
    "# Goals & Introduction \n",
    "\n",
    "Mexico is currently the world's biggest avocado exporter with 2.65 million metric tons in 2023, with 81% of the total exports directed to the United States alone. But these numbers have not always been so high, between 2014 and 2021 the total volume of avocados exported to the US doubled. During this period the Association of Avocado Exporting Producers and Packers of Mexico \n",
    "(APEAM) and the Mexican Hass Avocado Importers Association (MHAIA created a company called 'Avocados from Mexico', a non-profit organization dedicated to promoting a \n",
    "brand for Mexican avocados and growing the demand ofavocadost throughout the US.\n",
    "\n",
    "Together, these observations led to the question: Did the start of the 'Avocados from Mexico' campaigns cause an increase in Mexico's avocado exports?\n",
    "\n",
    "This question cannot be answered through experimentation, as it is impossible to experiment with the global market economic forces in the global avocado trade. However, a causal inference method (**Regression Discontinuity Design**) allows observational data to be used to determine whether the campaigns caused an increase in Mexican avocado exports.\n",
    "\n",
    "## Data Sources\n",
    "\n",
    "This study uses publicly available data collected by the Mexican Secretary of Economy (SE for its initials in Spanish), made available in the portal Data Mexico. The data was downloaded from: [Avocados: fresh or dried](https://www.economia.gob.mx/datamexico/es/profile/product/avocados-fresh-or-dried) S)"
   ]
  },
  {
   "cell_type": "markdown",
   "id": "c94cf356-dbca-4908-8c68-0ee7b86caefa",
   "metadata": {},
   "source": [
    "## Libraries and data"
   ]
  },
  {
   "cell_type": "code",
   "execution_count": 33,
   "id": "3c2f4150-58d9-411c-b82f-eba6488a4dfb",
   "metadata": {},
   "outputs": [
    {
     "name": "stdout",
     "output_type": "stream",
     "text": [
      "Index(['Year', 'Quarter ID', 'Quarter', 'State ID', 'State', 'Trade Value',\n",
      "       'Time'],\n",
      "      dtype='object')\n",
      "   Year  Quarter ID  Quarter  State ID                State  Trade Value  \\\n",
      "0  2006       20061  2006-Q1        16  Michoacán de Ocampo     88657873   \n",
      "1  2006       20062  2006-Q2        16  Michoacán de Ocampo     61272788   \n",
      "2  2006       20063  2006-Q3        16  Michoacán de Ocampo     44648807   \n",
      "3  2006       20064  2006-Q4        16  Michoacán de Ocampo     69551832   \n",
      "4  2007       20071  2007-Q1        16  Michoacán de Ocampo    107959010   \n",
      "\n",
      "            Time  \n",
      "0  1138773600000  \n",
      "1  1146459600000  \n",
      "2  1154408400000  \n",
      "3  1162360800000  \n",
      "4  1170309600000  \n"
     ]
    }
   ],
   "source": [
    "import pandas as pd\n",
    "import seaborn as sns\n",
    "import matplotlib.pyplot as plt\n",
    "import numpy as np"
   ]
  },
  {
   "cell_type": "code",
   "execution_count": 34,
   "id": "eeb9c061-e747-418c-bd3b-7da008569c4c",
   "metadata": {},
   "outputs": [
    {
     "name": "stdout",
     "output_type": "stream",
     "text": [
      "Index(['Year', 'Quarter ID', 'Quarter', 'State ID', 'State', 'Trade Value',\n",
      "       'Time'],\n",
      "      dtype='object')\n",
      "   Year  Quarter ID  Quarter  State ID                State  Trade Value  \\\n",
      "0  2006       20061  2006-Q1        16  Michoacán de Ocampo     88657873   \n",
      "1  2006       20062  2006-Q2        16  Michoacán de Ocampo     61272788   \n",
      "2  2006       20063  2006-Q3        16  Michoacán de Ocampo     44648807   \n",
      "3  2006       20064  2006-Q4        16  Michoacán de Ocampo     69551832   \n",
      "4  2007       20071  2007-Q1        16  Michoacán de Ocampo    107959010   \n",
      "\n",
      "            Time  \n",
      "0  1138773600000  \n",
      "1  1146459600000  \n",
      "2  1154408400000  \n",
      "3  1162360800000  \n",
      "4  1170309600000  \n"
     ]
    }
   ],
   "source": [
    "avocado=pd.read_csv('avocado.csv') #Quarterly sales of avocados from SE"
   ]
  },
  {
   "cell_type": "markdown",
   "id": "d77048b4-4bd6-4d7e-8cd2-47d76c672418",
   "metadata": {},
   "source": [
    "## Data structure and characteristics"
   ]
  },
  {
   "cell_type": "code",
   "execution_count": 125,
   "id": "f1062601-a5a4-4615-84eb-3ab3b978f8b9",
   "metadata": {},
   "outputs": [
    {
     "data": {
      "text/html": [
       "<div>\n",
       "<style scoped>\n",
       "    .dataframe tbody tr th:only-of-type {\n",
       "        vertical-align: middle;\n",
       "    }\n",
       "\n",
       "    .dataframe tbody tr th {\n",
       "        vertical-align: top;\n",
       "    }\n",
       "\n",
       "    .dataframe thead th {\n",
       "        text-align: right;\n",
       "    }\n",
       "</style>\n",
       "<table border=\"1\" class=\"dataframe\">\n",
       "  <thead>\n",
       "    <tr style=\"text-align: right;\">\n",
       "      <th></th>\n",
       "      <th>Year</th>\n",
       "      <th>Quarter ID</th>\n",
       "      <th>Quarter</th>\n",
       "      <th>State ID</th>\n",
       "      <th>State</th>\n",
       "      <th>Trade Value</th>\n",
       "      <th>Time</th>\n",
       "    </tr>\n",
       "  </thead>\n",
       "  <tbody>\n",
       "    <tr>\n",
       "      <th>0</th>\n",
       "      <td>2006</td>\n",
       "      <td>20061</td>\n",
       "      <td>2006-Q1</td>\n",
       "      <td>16</td>\n",
       "      <td>Michoacán de Ocampo</td>\n",
       "      <td>88657873</td>\n",
       "      <td>1138773600000</td>\n",
       "    </tr>\n",
       "    <tr>\n",
       "      <th>1</th>\n",
       "      <td>2006</td>\n",
       "      <td>20062</td>\n",
       "      <td>2006-Q2</td>\n",
       "      <td>16</td>\n",
       "      <td>Michoacán de Ocampo</td>\n",
       "      <td>61272788</td>\n",
       "      <td>1146459600000</td>\n",
       "    </tr>\n",
       "    <tr>\n",
       "      <th>2</th>\n",
       "      <td>2006</td>\n",
       "      <td>20063</td>\n",
       "      <td>2006-Q3</td>\n",
       "      <td>16</td>\n",
       "      <td>Michoacán de Ocampo</td>\n",
       "      <td>44648807</td>\n",
       "      <td>1154408400000</td>\n",
       "    </tr>\n",
       "    <tr>\n",
       "      <th>3</th>\n",
       "      <td>2006</td>\n",
       "      <td>20064</td>\n",
       "      <td>2006-Q4</td>\n",
       "      <td>16</td>\n",
       "      <td>Michoacán de Ocampo</td>\n",
       "      <td>69551832</td>\n",
       "      <td>1162360800000</td>\n",
       "    </tr>\n",
       "    <tr>\n",
       "      <th>4</th>\n",
       "      <td>2007</td>\n",
       "      <td>20071</td>\n",
       "      <td>2007-Q1</td>\n",
       "      <td>16</td>\n",
       "      <td>Michoacán de Ocampo</td>\n",
       "      <td>107959010</td>\n",
       "      <td>1170309600000</td>\n",
       "    </tr>\n",
       "  </tbody>\n",
       "</table>\n",
       "</div>"
      ],
      "text/plain": [
       "   Year  Quarter ID  Quarter  State ID                State  Trade Value  \\\n",
       "0  2006       20061  2006-Q1        16  Michoacán de Ocampo     88657873   \n",
       "1  2006       20062  2006-Q2        16  Michoacán de Ocampo     61272788   \n",
       "2  2006       20063  2006-Q3        16  Michoacán de Ocampo     44648807   \n",
       "3  2006       20064  2006-Q4        16  Michoacán de Ocampo     69551832   \n",
       "4  2007       20071  2007-Q1        16  Michoacán de Ocampo    107959010   \n",
       "\n",
       "            Time  \n",
       "0  1138773600000  \n",
       "1  1146459600000  \n",
       "2  1154408400000  \n",
       "3  1162360800000  \n",
       "4  1170309600000  "
      ]
     },
     "execution_count": 125,
     "metadata": {},
     "output_type": "execute_result"
    }
   ],
   "source": [
    "avocado.head() #look at the top 5 rows of the crash data to get a feel for the structure of the dataframe"
   ]
  },
  {
   "cell_type": "code",
   "execution_count": 38,
   "id": "5b60af11-bb7e-4913-94ca-306784ac29df",
   "metadata": {},
   "outputs": [
    {
     "name": "stdout",
     "output_type": "stream",
     "text": [
      "<class 'pandas.core.frame.DataFrame'>\n",
      "RangeIndex: 268 entries, 0 to 267\n",
      "Data columns (total 7 columns):\n",
      " #   Column       Non-Null Count  Dtype \n",
      "---  ------       --------------  ----- \n",
      " 0   Year         268 non-null    int64 \n",
      " 1   Quarter ID   268 non-null    int64 \n",
      " 2   Quarter      268 non-null    object\n",
      " 3   State ID     268 non-null    int64 \n",
      " 4   State        268 non-null    object\n",
      " 5   Trade Value  268 non-null    int64 \n",
      " 6   Time         268 non-null    int64 \n",
      "dtypes: int64(5), object(2)\n",
      "memory usage: 14.8+ KB\n"
     ]
    }
   ],
   "source": [
    "avocado.info() #Find out the size of the crash dataframe, types of data, and whether there are missing data"
   ]
  },
  {
   "cell_type": "markdown",
   "id": "19c4b314-f489-4c9a-b44a-70fc58bd0159",
   "metadata": {},
   "source": [
    "The avocado dataframe consists of 7 columns and 268 rows, all the columns are in long format. There is no missing data to work around.\n",
    "\n",
    "To get this dataframe ready for analysis we will need to\n",
    "\n",
    "-Trim info that is redundant and not necessary for this analysis\n",
    "\n",
    "-Integrate data so the values are not separated by state, rather presented as a national total.\n",
    "\n",
    "-Change the 'Time'column to a date.\n",
    "\n",
    "-Rename 'Trade Value' column to avoid problems in subsequent R processing"
   ]
  },
  {
   "cell_type": "markdown",
   "id": "48d89196-babf-42ba-ad0d-51f5b28428b7",
   "metadata": {},
   "source": [
    "## Data Formatting"
   ]
  },
  {
   "cell_type": "markdown",
   "id": "a09ec092-1730-46b0-9203-73f14461468b",
   "metadata": {},
   "source": [
    "First of all we will be dropping 'Quarter ID' and 'State ID' as these are redundant. Also we will remove the year from the 'Quarter' column for the same reason."
   ]
  },
  {
   "cell_type": "code",
   "execution_count": 68,
   "id": "f82f786d-49b1-4198-bfeb-1241826763b3",
   "metadata": {},
   "outputs": [
    {
     "data": {
      "text/html": [
       "<div>\n",
       "<style scoped>\n",
       "    .dataframe tbody tr th:only-of-type {\n",
       "        vertical-align: middle;\n",
       "    }\n",
       "\n",
       "    .dataframe tbody tr th {\n",
       "        vertical-align: top;\n",
       "    }\n",
       "\n",
       "    .dataframe thead th {\n",
       "        text-align: right;\n",
       "    }\n",
       "</style>\n",
       "<table border=\"1\" class=\"dataframe\">\n",
       "  <thead>\n",
       "    <tr style=\"text-align: right;\">\n",
       "      <th></th>\n",
       "      <th>Year</th>\n",
       "      <th>Quarter</th>\n",
       "      <th>State</th>\n",
       "      <th>Trade Value</th>\n",
       "      <th>Time</th>\n",
       "    </tr>\n",
       "  </thead>\n",
       "  <tbody>\n",
       "    <tr>\n",
       "      <th>0</th>\n",
       "      <td>2006</td>\n",
       "      <td>Q1</td>\n",
       "      <td>Michoacán de Ocampo</td>\n",
       "      <td>88657873</td>\n",
       "      <td>1138773600000</td>\n",
       "    </tr>\n",
       "    <tr>\n",
       "      <th>1</th>\n",
       "      <td>2006</td>\n",
       "      <td>Q2</td>\n",
       "      <td>Michoacán de Ocampo</td>\n",
       "      <td>61272788</td>\n",
       "      <td>1146459600000</td>\n",
       "    </tr>\n",
       "    <tr>\n",
       "      <th>2</th>\n",
       "      <td>2006</td>\n",
       "      <td>Q3</td>\n",
       "      <td>Michoacán de Ocampo</td>\n",
       "      <td>44648807</td>\n",
       "      <td>1154408400000</td>\n",
       "    </tr>\n",
       "    <tr>\n",
       "      <th>3</th>\n",
       "      <td>2006</td>\n",
       "      <td>Q4</td>\n",
       "      <td>Michoacán de Ocampo</td>\n",
       "      <td>69551832</td>\n",
       "      <td>1162360800000</td>\n",
       "    </tr>\n",
       "    <tr>\n",
       "      <th>4</th>\n",
       "      <td>2007</td>\n",
       "      <td>Q1</td>\n",
       "      <td>Michoacán de Ocampo</td>\n",
       "      <td>107959010</td>\n",
       "      <td>1170309600000</td>\n",
       "    </tr>\n",
       "  </tbody>\n",
       "</table>\n",
       "</div>"
      ],
      "text/plain": [
       "   Year Quarter                State  Trade Value           Time\n",
       "0  2006      Q1  Michoacán de Ocampo     88657873  1138773600000\n",
       "1  2006      Q2  Michoacán de Ocampo     61272788  1146459600000\n",
       "2  2006      Q3  Michoacán de Ocampo     44648807  1154408400000\n",
       "3  2006      Q4  Michoacán de Ocampo     69551832  1162360800000\n",
       "4  2007      Q1  Michoacán de Ocampo    107959010  1170309600000"
      ]
     },
     "execution_count": 68,
     "metadata": {},
     "output_type": "execute_result"
    }
   ],
   "source": [
    "trim_avocado=avocado[['Year', 'Quarter', 'State', 'Trade Value', 'Time']] # Select only non-redundant columns\n",
    "trim_avocado.loc[:, ('Quarter')]= trim_avocado['Quarter'].str.split('-').str[1] # Remove the year from the Quarter column\n",
    "trim_avocado.head()"
   ]
  },
  {
   "cell_type": "markdown",
   "id": "44cde944-c1e5-4156-9ef1-623032d31e8a",
   "metadata": {},
   "source": [
    "Then we will proceed to integrate the data so we have a national trade value for each quarter, instead of separate values for each state:"
   ]
  },
  {
   "cell_type": "code",
   "execution_count": 146,
   "id": "d738a895-e0df-4fb2-8b70-c40fbf0670b3",
   "metadata": {},
   "outputs": [
    {
     "data": {
      "text/html": [
       "<div>\n",
       "<style scoped>\n",
       "    .dataframe tbody tr th:only-of-type {\n",
       "        vertical-align: middle;\n",
       "    }\n",
       "\n",
       "    .dataframe tbody tr th {\n",
       "        vertical-align: top;\n",
       "    }\n",
       "\n",
       "    .dataframe thead th {\n",
       "        text-align: right;\n",
       "    }\n",
       "</style>\n",
       "<table border=\"1\" class=\"dataframe\">\n",
       "  <thead>\n",
       "    <tr style=\"text-align: right;\">\n",
       "      <th></th>\n",
       "      <th>Time</th>\n",
       "      <th>Year</th>\n",
       "      <th>Quarter</th>\n",
       "      <th>Trade Value</th>\n",
       "    </tr>\n",
       "  </thead>\n",
       "  <tbody>\n",
       "    <tr>\n",
       "      <th>0</th>\n",
       "      <td>1138773600000</td>\n",
       "      <td>2006</td>\n",
       "      <td>Q1</td>\n",
       "      <td>88657873</td>\n",
       "    </tr>\n",
       "    <tr>\n",
       "      <th>1</th>\n",
       "      <td>1146459600000</td>\n",
       "      <td>2006</td>\n",
       "      <td>Q2</td>\n",
       "      <td>61272788</td>\n",
       "    </tr>\n",
       "    <tr>\n",
       "      <th>2</th>\n",
       "      <td>1154408400000</td>\n",
       "      <td>2006</td>\n",
       "      <td>Q3</td>\n",
       "      <td>44648807</td>\n",
       "    </tr>\n",
       "    <tr>\n",
       "      <th>3</th>\n",
       "      <td>1162360800000</td>\n",
       "      <td>2006</td>\n",
       "      <td>Q4</td>\n",
       "      <td>69551832</td>\n",
       "    </tr>\n",
       "    <tr>\n",
       "      <th>4</th>\n",
       "      <td>1170309600000</td>\n",
       "      <td>2007</td>\n",
       "      <td>Q1</td>\n",
       "      <td>108111126</td>\n",
       "    </tr>\n",
       "  </tbody>\n",
       "</table>\n",
       "</div>"
      ],
      "text/plain": [
       "            Time  Year Quarter  Trade Value\n",
       "0  1138773600000  2006      Q1     88657873\n",
       "1  1146459600000  2006      Q2     61272788\n",
       "2  1154408400000  2006      Q3     44648807\n",
       "3  1162360800000  2006      Q4     69551832\n",
       "4  1170309600000  2007      Q1    108111126"
      ]
     },
     "execution_count": 146,
     "metadata": {},
     "output_type": "execute_result"
    }
   ],
   "source": [
    "sum_avocado = trim_avocado.groupby(['Time', 'Year', 'Quarter'], as_index = False)[\"Trade Value\"].sum() # Integrate state values\n",
    "sum_avocado.head()"
   ]
  },
  {
   "cell_type": "markdown",
   "id": "7d07a047-0669-40dc-82ff-987ec1e377cf",
   "metadata": {},
   "source": [
    "Next we will transform the 'Time' column to a date in order to visualize it better:"
   ]
  },
  {
   "cell_type": "code",
   "execution_count": 147,
   "id": "60b484a9-205b-4862-9e32-d770cf31fc79",
   "metadata": {},
   "outputs": [
    {
     "data": {
      "text/html": [
       "<div>\n",
       "<style scoped>\n",
       "    .dataframe tbody tr th:only-of-type {\n",
       "        vertical-align: middle;\n",
       "    }\n",
       "\n",
       "    .dataframe tbody tr th {\n",
       "        vertical-align: top;\n",
       "    }\n",
       "\n",
       "    .dataframe thead th {\n",
       "        text-align: right;\n",
       "    }\n",
       "</style>\n",
       "<table border=\"1\" class=\"dataframe\">\n",
       "  <thead>\n",
       "    <tr style=\"text-align: right;\">\n",
       "      <th></th>\n",
       "      <th>Time</th>\n",
       "      <th>Year</th>\n",
       "      <th>Quarter</th>\n",
       "      <th>Trade Value</th>\n",
       "    </tr>\n",
       "  </thead>\n",
       "  <tbody>\n",
       "    <tr>\n",
       "      <th>0</th>\n",
       "      <td>2006-02-01</td>\n",
       "      <td>2006</td>\n",
       "      <td>Q1</td>\n",
       "      <td>88657873</td>\n",
       "    </tr>\n",
       "    <tr>\n",
       "      <th>1</th>\n",
       "      <td>2006-05-01</td>\n",
       "      <td>2006</td>\n",
       "      <td>Q2</td>\n",
       "      <td>61272788</td>\n",
       "    </tr>\n",
       "    <tr>\n",
       "      <th>2</th>\n",
       "      <td>2006-08-01</td>\n",
       "      <td>2006</td>\n",
       "      <td>Q3</td>\n",
       "      <td>44648807</td>\n",
       "    </tr>\n",
       "    <tr>\n",
       "      <th>3</th>\n",
       "      <td>2006-11-01</td>\n",
       "      <td>2006</td>\n",
       "      <td>Q4</td>\n",
       "      <td>69551832</td>\n",
       "    </tr>\n",
       "    <tr>\n",
       "      <th>4</th>\n",
       "      <td>2007-02-01</td>\n",
       "      <td>2007</td>\n",
       "      <td>Q1</td>\n",
       "      <td>108111126</td>\n",
       "    </tr>\n",
       "  </tbody>\n",
       "</table>\n",
       "</div>"
      ],
      "text/plain": [
       "         Time  Year Quarter  Trade Value\n",
       "0  2006-02-01  2006      Q1     88657873\n",
       "1  2006-05-01  2006      Q2     61272788\n",
       "2  2006-08-01  2006      Q3     44648807\n",
       "3  2006-11-01  2006      Q4     69551832\n",
       "4  2007-02-01  2007      Q1    108111126"
      ]
     },
     "execution_count": 147,
     "metadata": {},
     "output_type": "execute_result"
    }
   ],
   "source": [
    "sum_avocado['Time'] = sum_avocado['Time'].astype(str).str[:-3].astype(np.int64)\n",
    "sum_avocado['Time'] = pd.to_datetime(sum_avocado['Time'], unit='s').dt.date\n",
    "sum_avocado.head()"
   ]
  },
  {
   "cell_type": "markdown",
   "id": "cf0fde89-77a6-4697-975d-d3fa204010b2",
   "metadata": {},
   "source": [
    "Finally, we will rename the 'Trade Value' column in order to avoid problems in further R analysis:"
   ]
  },
  {
   "cell_type": "code",
   "execution_count": 162,
   "id": "7c561560-5aa5-41ac-9afb-49227f516e7a",
   "metadata": {},
   "outputs": [
    {
     "data": {
      "text/html": [
       "<div>\n",
       "<style scoped>\n",
       "    .dataframe tbody tr th:only-of-type {\n",
       "        vertical-align: middle;\n",
       "    }\n",
       "\n",
       "    .dataframe tbody tr th {\n",
       "        vertical-align: top;\n",
       "    }\n",
       "\n",
       "    .dataframe thead th {\n",
       "        text-align: right;\n",
       "    }\n",
       "</style>\n",
       "<table border=\"1\" class=\"dataframe\">\n",
       "  <thead>\n",
       "    <tr style=\"text-align: right;\">\n",
       "      <th></th>\n",
       "      <th>Time</th>\n",
       "      <th>Year</th>\n",
       "      <th>Quarter</th>\n",
       "      <th>Trade_Value</th>\n",
       "    </tr>\n",
       "  </thead>\n",
       "  <tbody>\n",
       "    <tr>\n",
       "      <th>0</th>\n",
       "      <td>2006-02-01</td>\n",
       "      <td>2006</td>\n",
       "      <td>Q1</td>\n",
       "      <td>8.865787e-10</td>\n",
       "    </tr>\n",
       "    <tr>\n",
       "      <th>1</th>\n",
       "      <td>2006-05-01</td>\n",
       "      <td>2006</td>\n",
       "      <td>Q2</td>\n",
       "      <td>6.127279e-10</td>\n",
       "    </tr>\n",
       "    <tr>\n",
       "      <th>2</th>\n",
       "      <td>2006-08-01</td>\n",
       "      <td>2006</td>\n",
       "      <td>Q3</td>\n",
       "      <td>4.464881e-10</td>\n",
       "    </tr>\n",
       "    <tr>\n",
       "      <th>3</th>\n",
       "      <td>2006-11-01</td>\n",
       "      <td>2006</td>\n",
       "      <td>Q4</td>\n",
       "      <td>6.955183e-10</td>\n",
       "    </tr>\n",
       "    <tr>\n",
       "      <th>4</th>\n",
       "      <td>2007-02-01</td>\n",
       "      <td>2007</td>\n",
       "      <td>Q1</td>\n",
       "      <td>1.081111e-09</td>\n",
       "    </tr>\n",
       "  </tbody>\n",
       "</table>\n",
       "</div>"
      ],
      "text/plain": [
       "         Time  Year Quarter   Trade_Value\n",
       "0  2006-02-01  2006      Q1  8.865787e-10\n",
       "1  2006-05-01  2006      Q2  6.127279e-10\n",
       "2  2006-08-01  2006      Q3  4.464881e-10\n",
       "3  2006-11-01  2006      Q4  6.955183e-10\n",
       "4  2007-02-01  2007      Q1  1.081111e-09"
      ]
     },
     "execution_count": 162,
     "metadata": {},
     "output_type": "execute_result"
    }
   ],
   "source": [
    "sum_avocado.rename(columns={'Trade Value': 'Trade_Value'}, inplace=True)\n",
    "sum_avocado['Trade_Value'] = sum_avocado['Trade_Value'] / 1000000000\n",
    "sum_avocado.head()"
   ]
  },
  {
   "cell_type": "markdown",
   "id": "467d5924-4dc5-4def-b4f8-f02b8c8782af",
   "metadata": {},
   "source": [
    "A scatter plot of the sales data over time will reveal any outliers that need to be considered and will show general trends in the net sales of mexican avocados."
   ]
  },
  {
   "cell_type": "code",
   "execution_count": 163,
   "id": "e7a069ed-a52a-4a7a-95f2-d862113f7cd2",
   "metadata": {},
   "outputs": [
    {
     "data": {
      "image/png": "[encoded data removed]",
      "text/plain": [
       "<Figure size 640x480 with 1 Axes>"
      ]
     },
     "metadata": {},
     "output_type": "display_data"
    }
   ],
   "source": [
    "plt.figure()\n",
    "sns.scatterplot(x = 'Time', y = 'Trade_Value', hue = \"Quarter\",\n",
    "                data = sum_avocado)\n",
    "plt.xlabel('Date')\n",
    "plt.ylabel('Trade value in $USD B')\n",
    "plt.show()"
   ]
  },
  {
   "cell_type": "markdown",
   "id": "ba286f19-f6c3-4003-8a96-c4147ea13916",
   "metadata": {},
   "source": [
    "The plot shows a sharp decline in the sales exports for Q2 of 2024, it is clear that at the time of the data retrieval the quarter wasn't complete and therefore the value is not reliable. The value is an outlier and will be removed from future analysis."
   ]
  },
  {
   "cell_type": "code",
   "execution_count": 164,
   "id": "12f12138-4218-4787-a2ab-d25643be1983",
   "metadata": {},
   "outputs": [
    {
     "data": {
      "image/png": "[encoded data removed]",
      "text/plain": [
       "<Figure size 640x480 with 1 Axes>"
      ]
     },
     "metadata": {},
     "output_type": "display_data"
    }
   ],
   "source": [
    "sum_avocado.drop(sum_avocado.tail(1).index,inplace = True)\n",
    "\n",
    "plt.figure()\n",
    "sns.scatterplot(x = 'Time', y = 'Trade_Value', hue = \"Quarter\",\n",
    "                data = sum_avocado)\n",
    "plt.xlabel('Date')\n",
    "plt.ylabel('Trade value in $USD B')\n",
    "plt.show()"
   ]
  },
  {
   "cell_type": "markdown",
   "id": "ce9c842e-bd24-42cf-b32f-223d7993c380",
   "metadata": {},
   "source": [
    "Once the outlier year is removed, the overall trend of the sales rate is much more apparent: there is a steady growth of sales before 2016, afterwards there is a marked spike after 2016, with an increase in the sales and also the range of the variance increases. There is no clear tendency on wheter the quarter has a seasonal effect on the sales, to further analyze this we will perform a hypothesis testing.R:"
   ]
  },
  {
   "cell_type": "markdown",
   "id": "eb29fb0d-0c1f-4888-b019-485d5cb3509f",
   "metadata": {},
   "source": [
    "## Hypothesis testing"
   ]
  },
  {
   "cell_type": "markdown",
   "id": "8f1d80a7-8029-497e-b9eb-7b580baa1ae7",
   "metadata": {},
   "source": [
    "The scatter plot of the avocado sales data was unclear on the seasonality of its nature. The hypothesis that there are more sales in any given quarter (regardless of the year) can be tested with a oneway ANOVA or analysis of variance."
   ]
  },
  {
   "cell_type": "code",
   "execution_count": 128,
   "id": "9fd716d9-303f-4175-8452-695c18350ea5",
   "metadata": {},
   "outputs": [],
   "source": [
    "from scipy.stats import f_oneway # import function for oneway ANOVA"
   ]
  },
  {
   "cell_type": "code",
   "execution_count": 160,
   "id": "902cff4d-2cf4-4629-aed0-71e964252af5",
   "metadata": {},
   "outputs": [],
   "source": [
    "# Subset the sales rates by quarter\n",
    "q1 = sum_avocado[sum_avocado['Quarter']== 'Q1']['Trade_Value']\n",
    "q2 = sum_avocado[sum_avocado['Quarter']== 'Q2']['Trade_Value']\n",
    "q3 = sum_avocado[sum_avocado['Quarter']== 'Q3']['Trade_Value']\n",
    "q4 = sum_avocado[sum_avocado['Quarter']== 'Q4']['Trade_Value']"
   ]
  },
  {
   "cell_type": "code",
   "execution_count": 161,
   "id": "75faf774-31e4-4553-a130-f385734cec87",
   "metadata": {},
   "outputs": [
    {
     "name": "stdout",
     "output_type": "stream",
     "text": [
      "F_onewayResult(statistic=0.05532655262926632, pvalue=0.9827315584040981)\n"
     ]
    }
   ],
   "source": [
    "anova_result = f_oneway(q1,q2,q3,q4) #perform the oneway analysis of variance on sales rate by quarter\n",
    "print(anova_result)"
   ]
  },
  {
   "cell_type": "markdown",
   "id": "8d701e5c-6041-48fa-9ed0-57f624fb2114",
   "metadata": {},
   "source": [
    "In this case, the null hypothesis was that quarter has no impact on sales rate. Since the p-value is so high (much higher than the traditional cut-off of 0.05), the null hypothesis is accepted. The relatively low F statistic provides further support for our hypothesis. As a result, it can be concluded that the quarter does not impact the sales rate."
   ]
  },
  {
   "cell_type": "markdown",
   "id": "48c0e206-138b-4381-9b2d-db1e3f73dfab",
   "metadata": {},
   "source": [
    "Now that the dataset is fully cleaned, it can be exported as a .csv file that will be used for causal inference in R:"
   ]
  },
  {
   "cell_type": "code",
   "execution_count": 159,
   "id": "0a7ca60f-6775-4fae-966a-a69abbd4da90",
   "metadata": {},
   "outputs": [],
   "source": [
    "sum_avocado.to_csv(\"avocado_cleaned.csv\", index = False)"
   ]
  },
  {
   "cell_type": "markdown",
   "id": "f09ef662-d53a-49a7-b4c9-cd88b258557b",
   "metadata": {},
   "source": [
    "## Forcing variable"
   ]
  },
  {
   "cell_type": "markdown",
   "id": "19566220-26cd-432c-8495-5c9ae98be60e",
   "metadata": {},
   "source": [
    "'Avocados from Mexico' was founded in 2013, nevertheless, their first major campaign was their ad in the SuperBowl XLIX, celebrated on February 1st, 2015. This will be considered the cutoff point of our RDD analysis, given that it marks the start of the impact of said organization in the mexican avocado trade."
   ]
  }
 ],
 "metadata": {
  "kernelspec": {
   "display_name": "Python 3 (ipykernel)",
   "language": "python",
   "name": "python3"
  },
  "language_info": {
   "codemirror_mode": {
    "name": "ipython",
    "version": 3
   },
   "file_extension": ".py",
   "mimetype": "text/x-python",
   "name": "python",
   "nbconvert_exporter": "python",
   "pygments_lexer": "ipython3",
   "version": "3.11.7"
  }
 },
 "nbformat": 4,
 "nbformat_minor": 5
}
